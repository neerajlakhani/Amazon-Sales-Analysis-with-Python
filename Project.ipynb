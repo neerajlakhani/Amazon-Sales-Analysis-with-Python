{
 "cells": [
  {
   "cell_type": "code",
   "execution_count": 1,
   "id": "feae9fa9",
   "metadata": {},
   "outputs": [],
   "source": [
    "import pandas as pd\n",
    "import numpy as np\n",
    "import matplotlib.pyplot as plt\n",
    "import seaborn as sns\n"
   ]
  },
  {
   "cell_type": "code",
   "execution_count": 266,
   "id": "f8a24748",
   "metadata": {},
   "outputs": [
    {
     "name": "stderr",
     "output_type": "stream",
     "text": [
      "C:\\Users\\DELL\\AppData\\Local\\Temp\\ipykernel_2992\\4223109606.py:1: DtypeWarning: Columns (23) have mixed types. Specify dtype option on import or set low_memory=False.\n",
      "  amazon = pd.read_csv('Amazon Sale Report.csv')\n"
     ]
    }
   ],
   "source": [
    "amazon = pd.read_csv('Amazon Sale Report.csv')"
   ]
  },
  {
   "cell_type": "markdown",
   "id": "eb5a9e9c",
   "metadata": {},
   "source": [
    "## First Understanding the data"
   ]
  },
  {
   "cell_type": "code",
   "execution_count": 267,
   "id": "6ef2ecc6",
   "metadata": {},
   "outputs": [
    {
     "name": "stdout",
     "output_type": "stream",
     "text": [
      "<class 'pandas.core.frame.DataFrame'>\n",
      "RangeIndex: 128975 entries, 0 to 128974\n",
      "Data columns (total 24 columns):\n",
      " #   Column              Non-Null Count   Dtype  \n",
      "---  ------              --------------   -----  \n",
      " 0   index               128975 non-null  int64  \n",
      " 1   Order ID            128975 non-null  object \n",
      " 2   Date                128975 non-null  object \n",
      " 3   Status              128975 non-null  object \n",
      " 4   Fulfilment          128975 non-null  object \n",
      " 5   Sales Channel       128975 non-null  object \n",
      " 6   ship-service-level  128975 non-null  object \n",
      " 7   Style               128975 non-null  object \n",
      " 8   SKU                 128975 non-null  object \n",
      " 9   Category            128975 non-null  object \n",
      " 10  Size                128975 non-null  object \n",
      " 11  ASIN                128975 non-null  object \n",
      " 12  Courier Status      122103 non-null  object \n",
      " 13  Qty                 128975 non-null  int64  \n",
      " 14  currency            121180 non-null  object \n",
      " 15  Amount              121180 non-null  float64\n",
      " 16  ship-city           128942 non-null  object \n",
      " 17  ship-state          128942 non-null  object \n",
      " 18  ship-postal-code    128942 non-null  float64\n",
      " 19  ship-country        128942 non-null  object \n",
      " 20  promotion-ids       79822 non-null   object \n",
      " 21  B2B                 128975 non-null  bool   \n",
      " 22  fulfilled-by        39277 non-null   object \n",
      " 23  Unnamed: 22         79925 non-null   object \n",
      "dtypes: bool(1), float64(2), int64(2), object(19)\n",
      "memory usage: 22.8+ MB\n"
     ]
    }
   ],
   "source": [
    "amazon.info()"
   ]
  },
  {
   "cell_type": "code",
   "execution_count": 268,
   "id": "0bd7f67f",
   "metadata": {},
   "outputs": [
    {
     "data": {
      "text/plain": [
       "Index(['index', 'Order ID', 'Date', 'Status', 'Fulfilment', 'Sales Channel ',\n",
       "       'ship-service-level', 'Style', 'SKU', 'Category', 'Size', 'ASIN',\n",
       "       'Courier Status', 'Qty', 'currency', 'Amount', 'ship-city',\n",
       "       'ship-state', 'ship-postal-code', 'ship-country', 'promotion-ids',\n",
       "       'B2B', 'fulfilled-by', 'Unnamed: 22'],\n",
       "      dtype='object')"
      ]
     },
     "execution_count": 268,
     "metadata": {},
     "output_type": "execute_result"
    }
   ],
   "source": [
    "amazon.columns"
   ]
  },
  {
   "cell_type": "code",
   "execution_count": 269,
   "id": "4f4ccd24",
   "metadata": {},
   "outputs": [],
   "source": [
    "pd.set_option('display.max_columns', 30)"
   ]
  },
  {
   "cell_type": "code",
   "execution_count": 270,
   "id": "2d7dfd47",
   "metadata": {},
   "outputs": [
    {
     "data": {
      "text/html": [
       "<div>\n",
       "<style scoped>\n",
       "    .dataframe tbody tr th:only-of-type {\n",
       "        vertical-align: middle;\n",
       "    }\n",
       "\n",
       "    .dataframe tbody tr th {\n",
       "        vertical-align: top;\n",
       "    }\n",
       "\n",
       "    .dataframe thead th {\n",
       "        text-align: right;\n",
       "    }\n",
       "</style>\n",
       "<table border=\"1\" class=\"dataframe\">\n",
       "  <thead>\n",
       "    <tr style=\"text-align: right;\">\n",
       "      <th></th>\n",
       "      <th>index</th>\n",
       "      <th>Order ID</th>\n",
       "      <th>Date</th>\n",
       "      <th>Status</th>\n",
       "      <th>Fulfilment</th>\n",
       "      <th>Sales Channel</th>\n",
       "      <th>ship-service-level</th>\n",
       "      <th>Style</th>\n",
       "      <th>SKU</th>\n",
       "      <th>Category</th>\n",
       "      <th>Size</th>\n",
       "      <th>ASIN</th>\n",
       "      <th>Courier Status</th>\n",
       "      <th>Qty</th>\n",
       "      <th>currency</th>\n",
       "      <th>Amount</th>\n",
       "      <th>ship-city</th>\n",
       "      <th>ship-state</th>\n",
       "      <th>ship-postal-code</th>\n",
       "      <th>ship-country</th>\n",
       "      <th>promotion-ids</th>\n",
       "      <th>B2B</th>\n",
       "      <th>fulfilled-by</th>\n",
       "      <th>Unnamed: 22</th>\n",
       "    </tr>\n",
       "  </thead>\n",
       "  <tbody>\n",
       "    <tr>\n",
       "      <th>0</th>\n",
       "      <td>0</td>\n",
       "      <td>405-8078784-5731545</td>\n",
       "      <td>04-30-22</td>\n",
       "      <td>Cancelled</td>\n",
       "      <td>Merchant</td>\n",
       "      <td>Amazon.in</td>\n",
       "      <td>Standard</td>\n",
       "      <td>SET389</td>\n",
       "      <td>SET389-KR-NP-S</td>\n",
       "      <td>Set</td>\n",
       "      <td>S</td>\n",
       "      <td>B09KXVBD7Z</td>\n",
       "      <td>NaN</td>\n",
       "      <td>0</td>\n",
       "      <td>INR</td>\n",
       "      <td>647.62</td>\n",
       "      <td>MUMBAI</td>\n",
       "      <td>MAHARASHTRA</td>\n",
       "      <td>400081.0</td>\n",
       "      <td>IN</td>\n",
       "      <td>NaN</td>\n",
       "      <td>False</td>\n",
       "      <td>Easy Ship</td>\n",
       "      <td>NaN</td>\n",
       "    </tr>\n",
       "  </tbody>\n",
       "</table>\n",
       "</div>"
      ],
      "text/plain": [
       "   index             Order ID      Date     Status Fulfilment Sales Channel   \\\n",
       "0      0  405-8078784-5731545  04-30-22  Cancelled   Merchant      Amazon.in   \n",
       "\n",
       "  ship-service-level   Style             SKU Category Size        ASIN  \\\n",
       "0           Standard  SET389  SET389-KR-NP-S      Set    S  B09KXVBD7Z   \n",
       "\n",
       "  Courier Status  Qty currency  Amount ship-city   ship-state  \\\n",
       "0            NaN    0      INR  647.62    MUMBAI  MAHARASHTRA   \n",
       "\n",
       "   ship-postal-code ship-country promotion-ids    B2B fulfilled-by Unnamed: 22  \n",
       "0          400081.0           IN           NaN  False    Easy Ship         NaN  "
      ]
     },
     "execution_count": 270,
     "metadata": {},
     "output_type": "execute_result"
    }
   ],
   "source": [
    "amazon.head(1)"
   ]
  },
  {
   "cell_type": "code",
   "execution_count": 271,
   "id": "581a54bd",
   "metadata": {},
   "outputs": [],
   "source": [
    "amazon.drop(columns = ['index', 'Courier Status', 'Order ID', 'Style', 'SKU', 'currency', 'ship-country', 'Unnamed: 22'], inplace = True)"
   ]
  },
  {
   "cell_type": "code",
   "execution_count": 272,
   "id": "cfa5f07e",
   "metadata": {},
   "outputs": [
    {
     "data": {
      "text/plain": [
       "Date                      0\n",
       "Status                    0\n",
       "Fulfilment                0\n",
       "Sales Channel             0\n",
       "ship-service-level        0\n",
       "Category                  0\n",
       "Size                      0\n",
       "ASIN                      0\n",
       "Qty                       0\n",
       "Amount                 7795\n",
       "ship-city                33\n",
       "ship-state               33\n",
       "ship-postal-code         33\n",
       "promotion-ids         49153\n",
       "B2B                       0\n",
       "fulfilled-by          89698\n",
       "dtype: int64"
      ]
     },
     "execution_count": 272,
     "metadata": {},
     "output_type": "execute_result"
    }
   ],
   "source": [
    "amazon.isnull().sum()"
   ]
  },
  {
   "cell_type": "code",
   "execution_count": 273,
   "id": "d6b8fd68",
   "metadata": {},
   "outputs": [],
   "source": [
    "# Dropping the columns with percentage of null values higher than 30"
   ]
  },
  {
   "cell_type": "code",
   "execution_count": 274,
   "id": "e0c76ada",
   "metadata": {},
   "outputs": [
    {
     "data": {
      "text/html": [
       "<div>\n",
       "<style scoped>\n",
       "    .dataframe tbody tr th:only-of-type {\n",
       "        vertical-align: middle;\n",
       "    }\n",
       "\n",
       "    .dataframe tbody tr th {\n",
       "        vertical-align: top;\n",
       "    }\n",
       "\n",
       "    .dataframe thead th {\n",
       "        text-align: right;\n",
       "    }\n",
       "</style>\n",
       "<table border=\"1\" class=\"dataframe\">\n",
       "  <thead>\n",
       "    <tr style=\"text-align: right;\">\n",
       "      <th></th>\n",
       "      <th>Date</th>\n",
       "      <th>Status</th>\n",
       "      <th>Fulfilment</th>\n",
       "      <th>Sales Channel</th>\n",
       "      <th>ship-service-level</th>\n",
       "      <th>Category</th>\n",
       "      <th>Size</th>\n",
       "      <th>ASIN</th>\n",
       "      <th>Qty</th>\n",
       "      <th>Amount</th>\n",
       "      <th>ship-city</th>\n",
       "      <th>ship-state</th>\n",
       "      <th>ship-postal-code</th>\n",
       "      <th>B2B</th>\n",
       "    </tr>\n",
       "  </thead>\n",
       "  <tbody>\n",
       "    <tr>\n",
       "      <th>0</th>\n",
       "      <td>04-30-22</td>\n",
       "      <td>Cancelled</td>\n",
       "      <td>Merchant</td>\n",
       "      <td>Amazon.in</td>\n",
       "      <td>Standard</td>\n",
       "      <td>Set</td>\n",
       "      <td>S</td>\n",
       "      <td>B09KXVBD7Z</td>\n",
       "      <td>0</td>\n",
       "      <td>647.62</td>\n",
       "      <td>MUMBAI</td>\n",
       "      <td>MAHARASHTRA</td>\n",
       "      <td>400081.0</td>\n",
       "      <td>False</td>\n",
       "    </tr>\n",
       "    <tr>\n",
       "      <th>1</th>\n",
       "      <td>04-30-22</td>\n",
       "      <td>Shipped - Delivered to Buyer</td>\n",
       "      <td>Merchant</td>\n",
       "      <td>Amazon.in</td>\n",
       "      <td>Standard</td>\n",
       "      <td>kurta</td>\n",
       "      <td>3XL</td>\n",
       "      <td>B09K3WFS32</td>\n",
       "      <td>1</td>\n",
       "      <td>406.00</td>\n",
       "      <td>BENGALURU</td>\n",
       "      <td>KARNATAKA</td>\n",
       "      <td>560085.0</td>\n",
       "      <td>False</td>\n",
       "    </tr>\n",
       "    <tr>\n",
       "      <th>2</th>\n",
       "      <td>04-30-22</td>\n",
       "      <td>Shipped</td>\n",
       "      <td>Amazon</td>\n",
       "      <td>Amazon.in</td>\n",
       "      <td>Expedited</td>\n",
       "      <td>kurta</td>\n",
       "      <td>XL</td>\n",
       "      <td>B07WV4JV4D</td>\n",
       "      <td>1</td>\n",
       "      <td>329.00</td>\n",
       "      <td>NAVI MUMBAI</td>\n",
       "      <td>MAHARASHTRA</td>\n",
       "      <td>410210.0</td>\n",
       "      <td>True</td>\n",
       "    </tr>\n",
       "    <tr>\n",
       "      <th>3</th>\n",
       "      <td>04-30-22</td>\n",
       "      <td>Cancelled</td>\n",
       "      <td>Merchant</td>\n",
       "      <td>Amazon.in</td>\n",
       "      <td>Standard</td>\n",
       "      <td>Western Dress</td>\n",
       "      <td>L</td>\n",
       "      <td>B099NRCT7B</td>\n",
       "      <td>0</td>\n",
       "      <td>753.33</td>\n",
       "      <td>PUDUCHERRY</td>\n",
       "      <td>PUDUCHERRY</td>\n",
       "      <td>605008.0</td>\n",
       "      <td>False</td>\n",
       "    </tr>\n",
       "    <tr>\n",
       "      <th>4</th>\n",
       "      <td>04-30-22</td>\n",
       "      <td>Shipped</td>\n",
       "      <td>Amazon</td>\n",
       "      <td>Amazon.in</td>\n",
       "      <td>Expedited</td>\n",
       "      <td>Top</td>\n",
       "      <td>3XL</td>\n",
       "      <td>B098714BZP</td>\n",
       "      <td>1</td>\n",
       "      <td>574.00</td>\n",
       "      <td>CHENNAI</td>\n",
       "      <td>TAMIL NADU</td>\n",
       "      <td>600073.0</td>\n",
       "      <td>False</td>\n",
       "    </tr>\n",
       "  </tbody>\n",
       "</table>\n",
       "</div>"
      ],
      "text/plain": [
       "       Date                        Status Fulfilment Sales Channel   \\\n",
       "0  04-30-22                     Cancelled   Merchant      Amazon.in   \n",
       "1  04-30-22  Shipped - Delivered to Buyer   Merchant      Amazon.in   \n",
       "2  04-30-22                       Shipped     Amazon      Amazon.in   \n",
       "3  04-30-22                     Cancelled   Merchant      Amazon.in   \n",
       "4  04-30-22                       Shipped     Amazon      Amazon.in   \n",
       "\n",
       "  ship-service-level       Category Size        ASIN  Qty  Amount  \\\n",
       "0           Standard            Set    S  B09KXVBD7Z    0  647.62   \n",
       "1           Standard          kurta  3XL  B09K3WFS32    1  406.00   \n",
       "2          Expedited          kurta   XL  B07WV4JV4D    1  329.00   \n",
       "3           Standard  Western Dress    L  B099NRCT7B    0  753.33   \n",
       "4          Expedited            Top  3XL  B098714BZP    1  574.00   \n",
       "\n",
       "     ship-city   ship-state  ship-postal-code    B2B  \n",
       "0       MUMBAI  MAHARASHTRA          400081.0  False  \n",
       "1    BENGALURU    KARNATAKA          560085.0  False  \n",
       "2  NAVI MUMBAI  MAHARASHTRA          410210.0   True  \n",
       "3   PUDUCHERRY   PUDUCHERRY          605008.0  False  \n",
       "4      CHENNAI   TAMIL NADU          600073.0  False  "
      ]
     },
     "execution_count": 274,
     "metadata": {},
     "output_type": "execute_result"
    }
   ],
   "source": [
    "def drop_columns_with_high_null_percentage(df, threshold=30):\n",
    "    for column in df.columns:\n",
    "        if df[column].isnull().sum() / len(df) * 100 >= threshold:\n",
    "            df.drop(columns=column, inplace=True)\n",
    "\n",
    "drop_columns_with_high_null_percentage(amazon, threshold=30)\n",
    "\n",
    "amazon.head()"
   ]
  },
  {
   "cell_type": "code",
   "execution_count": 275,
   "id": "224c19fa",
   "metadata": {},
   "outputs": [
    {
     "data": {
      "text/html": [
       "<div>\n",
       "<style scoped>\n",
       "    .dataframe tbody tr th:only-of-type {\n",
       "        vertical-align: middle;\n",
       "    }\n",
       "\n",
       "    .dataframe tbody tr th {\n",
       "        vertical-align: top;\n",
       "    }\n",
       "\n",
       "    .dataframe thead th {\n",
       "        text-align: right;\n",
       "    }\n",
       "</style>\n",
       "<table border=\"1\" class=\"dataframe\">\n",
       "  <thead>\n",
       "    <tr style=\"text-align: right;\">\n",
       "      <th></th>\n",
       "      <th>Date</th>\n",
       "      <th>Status</th>\n",
       "      <th>Fulfilment</th>\n",
       "      <th>Sales Channel</th>\n",
       "      <th>ship-service-level</th>\n",
       "      <th>Category</th>\n",
       "      <th>Size</th>\n",
       "      <th>ASIN</th>\n",
       "      <th>Qty</th>\n",
       "      <th>Amount</th>\n",
       "      <th>ship-city</th>\n",
       "      <th>ship-state</th>\n",
       "      <th>ship-postal-code</th>\n",
       "      <th>B2B</th>\n",
       "    </tr>\n",
       "  </thead>\n",
       "  <tbody>\n",
       "    <tr>\n",
       "      <th>8</th>\n",
       "      <td>04-30-22</td>\n",
       "      <td>Cancelled</td>\n",
       "      <td>Amazon</td>\n",
       "      <td>Amazon.in</td>\n",
       "      <td>Expedited</td>\n",
       "      <td>Set</td>\n",
       "      <td>3XL</td>\n",
       "      <td>B08L91ZZXN</td>\n",
       "      <td>0</td>\n",
       "      <td>NaN</td>\n",
       "      <td>HYDERABAD</td>\n",
       "      <td>TELANGANA</td>\n",
       "      <td>500008.0</td>\n",
       "      <td>False</td>\n",
       "    </tr>\n",
       "    <tr>\n",
       "      <th>29</th>\n",
       "      <td>04-30-22</td>\n",
       "      <td>Cancelled</td>\n",
       "      <td>Merchant</td>\n",
       "      <td>Amazon.in</td>\n",
       "      <td>Standard</td>\n",
       "      <td>kurta</td>\n",
       "      <td>3XL</td>\n",
       "      <td>B07JG3CND8</td>\n",
       "      <td>0</td>\n",
       "      <td>NaN</td>\n",
       "      <td>GUWAHATI</td>\n",
       "      <td>ASSAM</td>\n",
       "      <td>781003.0</td>\n",
       "      <td>False</td>\n",
       "    </tr>\n",
       "    <tr>\n",
       "      <th>65</th>\n",
       "      <td>04-30-22</td>\n",
       "      <td>Cancelled</td>\n",
       "      <td>Amazon</td>\n",
       "      <td>Amazon.in</td>\n",
       "      <td>Expedited</td>\n",
       "      <td>kurta</td>\n",
       "      <td>XXL</td>\n",
       "      <td>B082W8RWN1</td>\n",
       "      <td>0</td>\n",
       "      <td>NaN</td>\n",
       "      <td>Dahod</td>\n",
       "      <td>Gujarat</td>\n",
       "      <td>389151.0</td>\n",
       "      <td>False</td>\n",
       "    </tr>\n",
       "    <tr>\n",
       "      <th>84</th>\n",
       "      <td>04-30-22</td>\n",
       "      <td>Cancelled</td>\n",
       "      <td>Amazon</td>\n",
       "      <td>Amazon.in</td>\n",
       "      <td>Expedited</td>\n",
       "      <td>kurta</td>\n",
       "      <td>M</td>\n",
       "      <td>B08WPR5MCB</td>\n",
       "      <td>0</td>\n",
       "      <td>NaN</td>\n",
       "      <td>HYDERABAD</td>\n",
       "      <td>TELANGANA</td>\n",
       "      <td>500072.0</td>\n",
       "      <td>False</td>\n",
       "    </tr>\n",
       "    <tr>\n",
       "      <th>95</th>\n",
       "      <td>04-30-22</td>\n",
       "      <td>Cancelled</td>\n",
       "      <td>Amazon</td>\n",
       "      <td>Amazon.in</td>\n",
       "      <td>Expedited</td>\n",
       "      <td>kurta</td>\n",
       "      <td>L</td>\n",
       "      <td>B081WSCKPQ</td>\n",
       "      <td>0</td>\n",
       "      <td>NaN</td>\n",
       "      <td>PUNE</td>\n",
       "      <td>MAHARASHTRA</td>\n",
       "      <td>411046.0</td>\n",
       "      <td>False</td>\n",
       "    </tr>\n",
       "  </tbody>\n",
       "</table>\n",
       "</div>"
      ],
      "text/plain": [
       "        Date     Status Fulfilment Sales Channel  ship-service-level Category  \\\n",
       "8   04-30-22  Cancelled     Amazon      Amazon.in          Expedited      Set   \n",
       "29  04-30-22  Cancelled   Merchant      Amazon.in           Standard    kurta   \n",
       "65  04-30-22  Cancelled     Amazon      Amazon.in          Expedited    kurta   \n",
       "84  04-30-22  Cancelled     Amazon      Amazon.in          Expedited    kurta   \n",
       "95  04-30-22  Cancelled     Amazon      Amazon.in          Expedited    kurta   \n",
       "\n",
       "   Size        ASIN  Qty  Amount  ship-city   ship-state  ship-postal-code  \\\n",
       "8   3XL  B08L91ZZXN    0     NaN  HYDERABAD    TELANGANA          500008.0   \n",
       "29  3XL  B07JG3CND8    0     NaN   GUWAHATI        ASSAM          781003.0   \n",
       "65  XXL  B082W8RWN1    0     NaN      Dahod      Gujarat          389151.0   \n",
       "84    M  B08WPR5MCB    0     NaN  HYDERABAD    TELANGANA          500072.0   \n",
       "95    L  B081WSCKPQ    0     NaN       PUNE  MAHARASHTRA          411046.0   \n",
       "\n",
       "      B2B  \n",
       "8   False  \n",
       "29  False  \n",
       "65  False  \n",
       "84  False  \n",
       "95  False  "
      ]
     },
     "execution_count": 275,
     "metadata": {},
     "output_type": "execute_result"
    }
   ],
   "source": [
    "amazon.loc[amazon['Amount'].isnull()].head() #We can see that only those values are NaN where orders were cancelled we can replace the "
   ]
  },
  {
   "cell_type": "code",
   "execution_count": 276,
   "id": "39120965",
   "metadata": {},
   "outputs": [],
   "source": [
    "amazon['Amount'].fillna(0, inplace = True)"
   ]
  },
  {
   "cell_type": "code",
   "execution_count": 277,
   "id": "16740785",
   "metadata": {},
   "outputs": [
    {
     "data": {
      "text/plain": [
       "0.00      10138\n",
       "399.00     5442\n",
       "771.00     2797\n",
       "735.00     2436\n",
       "487.00     2293\n",
       "          ...  \n",
       "558.10        1\n",
       "551.42        1\n",
       "973.00        1\n",
       "727.60        1\n",
       "639.00        1\n",
       "Name: Amount, Length: 1410, dtype: int64"
      ]
     },
     "execution_count": 277,
     "metadata": {},
     "output_type": "execute_result"
    }
   ],
   "source": [
    "amazon['Amount'].value_counts()"
   ]
  },
  {
   "cell_type": "markdown",
   "id": "ebce8937",
   "metadata": {},
   "source": [
    "##  Cleaning & Analyzing Data"
   ]
  },
  {
   "cell_type": "code",
   "execution_count": 278,
   "id": "caaa99a6",
   "metadata": {},
   "outputs": [],
   "source": [
    "#first analyzing and visualizing only fullfilments of Amazon which were shipped or cancelled"
   ]
  },
  {
   "cell_type": "code",
   "execution_count": 279,
   "id": "5a36675f",
   "metadata": {},
   "outputs": [
    {
     "data": {
      "text/plain": [
       "Shipped                          77804\n",
       "Shipped - Delivered to Buyer     28769\n",
       "Cancelled                        18332\n",
       "Shipped - Returned to Seller      1953\n",
       "Shipped - Picked Up                973\n",
       "Pending                            658\n",
       "Pending - Waiting for Pick Up      281\n",
       "Shipped - Returning to Seller      145\n",
       "Shipped - Out for Delivery          35\n",
       "Shipped - Rejected by Buyer         11\n",
       "Shipping                             8\n",
       "Shipped - Lost in Transit            5\n",
       "Shipped - Damaged                    1\n",
       "Name: Status, dtype: int64"
      ]
     },
     "execution_count": 279,
     "metadata": {},
     "output_type": "execute_result"
    }
   ],
   "source": [
    "amazon['Status'].value_counts()"
   ]
  },
  {
   "cell_type": "code",
   "execution_count": 282,
   "id": "0042339a",
   "metadata": {},
   "outputs": [],
   "source": [
    "amazon.rename(columns = {'Category':'Product Category'}, inplace =True )"
   ]
  },
  {
   "cell_type": "code",
   "execution_count": 284,
   "id": "45ab4205",
   "metadata": {},
   "outputs": [],
   "source": [
    "amazon['Date'] = pd.to_datetime(amazon['Date'])\n"
   ]
  },
  {
   "cell_type": "code",
   "execution_count": 285,
   "id": "93c37125",
   "metadata": {},
   "outputs": [],
   "source": [
    "amazon['month'] = amazon['Date'].dt.month"
   ]
  },
  {
   "cell_type": "code",
   "execution_count": 286,
   "id": "1f92dabc",
   "metadata": {},
   "outputs": [
    {
     "data": {
      "text/plain": [
       "4    49067\n",
       "5    42040\n",
       "6    37697\n",
       "3      171\n",
       "Name: month, dtype: int64"
      ]
     },
     "execution_count": 286,
     "metadata": {},
     "output_type": "execute_result"
    }
   ],
   "source": [
    "amazon['month'].value_counts()"
   ]
  },
  {
   "cell_type": "code",
   "execution_count": 287,
   "id": "9bbf9e7a",
   "metadata": {},
   "outputs": [
    {
     "data": {
      "text/plain": [
       "1"
      ]
     },
     "execution_count": 287,
     "metadata": {},
     "output_type": "execute_result"
    }
   ],
   "source": [
    "march_dates = amazon['Date'][amazon['Date'].dt.month == 3]\n",
    "\n",
    "# Get the number of unique days in March\n",
    "march_dates.dt.day.nunique()\n"
   ]
  },
  {
   "cell_type": "code",
   "execution_count": 288,
   "id": "19098672",
   "metadata": {},
   "outputs": [],
   "source": [
    "#As only there is shopping only on a single day of March, we can drop it for analysis\n",
    "amazon = amazon[(amazon['Date'].dt.month != 3)]"
   ]
  },
  {
   "cell_type": "code",
   "execution_count": 289,
   "id": "b5057aee",
   "metadata": {},
   "outputs": [],
   "source": [
    "month_mapping = {\n",
    "    4: 'April',\n",
    "    5: 'May',\n",
    "    6: 'June'\n",
    "}\n",
    "\n",
    "amazon['month'] = amazon['month'].replace(month_mapping)"
   ]
  },
  {
   "cell_type": "code",
   "execution_count": 297,
   "id": "e3c03b5b",
   "metadata": {},
   "outputs": [],
   "source": [
    "#we need to have months in order\n",
    "month_order = ['April', 'May', 'June']\n",
    "amazon['month'] = pd.Categorical(amazon['month'], categories = month_order, ordered = True)"
   ]
  },
  {
   "cell_type": "code",
   "execution_count": 365,
   "id": "7fd1eb9f",
   "metadata": {},
   "outputs": [
    {
     "data": {
      "image/png": "[encoded data removed]",
      "text/plain": [
       "<Figure size 640x480 with 1 Axes>"
      ]
     },
     "metadata": {},
     "output_type": "display_data"
    }
   ],
   "source": [
    "amazon.groupby('month')['Amount'].sum().sort_values(ascending=True).plot(kind = 'barh')\n",
    "plt.title('Descreasing Revenue by Months')\n",
    "plt.xlabel('Amount')\n",
    "plt.ylabel('Months')\n",
    "plt.show()"
   ]
  },
  {
   "cell_type": "code",
   "execution_count": 447,
   "id": "a6cbddfb",
   "metadata": {},
   "outputs": [
    {
     "name": "stdout",
     "output_type": "stream",
     "text": [
      "The percentage of orders shipped is 86.73%, which is very high as compared to 12.80 percent of orders cancelled\n"
     ]
    }
   ],
   "source": [
    "# Checking the percentage of orders which were shipped and cancelled by Amazon Users\n",
    "orders_shipped = amazon[(amazon['Fulfilment'] == 'Amazon') & (amazon['Status'] == 'Shipped')]\n",
    "order_cancelled = amazon[(amazon['Fulfilment'] == 'Amazon') & (amazon['Status'] == 'Cancelled')]\n",
    "percent_orders_shipped = len(orders_shipped)/len(amazon[amazon['Fulfilment'] == 'Amazon']) * 100\n",
    "percent_orders_cancelled = len(order_cancelled)/len(amazon[amazon['Fulfilment'] == 'Amazon']) * 100\n",
    "print(f'The percentage of orders shipped is {percent_orders_shipped :.2f}%, which is very high as compared to {percent_orders_cancelled:.2f} percent of orders cancelled')"
   ]
  },
  {
   "cell_type": "code",
   "execution_count": 415,
   "id": "ec795d4f",
   "metadata": {},
   "outputs": [
    {
     "data": {
      "text/plain": [
       "<Axes: ylabel='Status'>"
      ]
     },
     "execution_count": 415,
     "metadata": {},
     "output_type": "execute_result"
    },
    {
     "data": {
      "image/png": "[encoded data removed]",
      "text/plain": [
       "<Figure size 640x480 with 1 Axes>"
      ]
     },
     "metadata": {},
     "output_type": "display_data"
    }
   ],
   "source": [
    "amazon[amazon['Fulfilment'] == 'Amazon'].groupby('Status')['Status'].count().plot(kind = 'pie')"
   ]
  },
  {
   "cell_type": "code",
   "execution_count": 290,
   "id": "ac3ed265",
   "metadata": {},
   "outputs": [],
   "source": [
    "amazon['ship-city'].fillna('unknown', inplace = True)\n",
    "amazon['ship-state'].fillna('unknown', inplace = True)\n",
    "amazon['ship-postal-code'].fillna('unknown', inplace = True)"
   ]
  },
  {
   "cell_type": "code",
   "execution_count": 363,
   "id": "4da0a170",
   "metadata": {},
   "outputs": [
    {
     "data": {
      "image/png": "[encoded data removed]",
      "text/plain": [
       "<Figure size 640x480 with 1 Axes>"
      ]
     },
     "metadata": {},
     "output_type": "display_data"
    }
   ],
   "source": [
    "amazon.groupby('ship-state')['Amount'].sum().sort_values(ascending = False).head().plot(kind='bar')\n",
    "plt.title('Revenue Generated by States')\n",
    "plt.xlabel('States')\n",
    "plt.ylabel('Amount')\n",
    "plt.show()"
   ]
  },
  {
   "cell_type": "code",
   "execution_count": 373,
   "id": "8f75d6c4",
   "metadata": {},
   "outputs": [
    {
     "data": {
      "text/plain": [
       "<Axes: ylabel='Amount'>"
      ]
     },
     "execution_count": 373,
     "metadata": {},
     "output_type": "execute_result"
    },
    {
     "data": {
      "image/png": "[encoded data removed]",
      "text/plain": [
       "<Figure size 640x480 with 1 Axes>"
      ]
     },
     "metadata": {},
     "output_type": "display_data"
    }
   ],
   "source": [
    "amazon.groupby('Product Category')['Amount'].sum().sort_values(ascending = False).head().plot(kind='pie')\n"
   ]
  },
  {
   "cell_type": "code",
   "execution_count": 414,
   "id": "f345e81f",
   "metadata": {},
   "outputs": [
    {
     "data": {
      "image/png": "[encoded data removed]",
      "text/plain": [
       "<Figure size 1200x400 with 2 Axes>"
      ]
     },
     "metadata": {},
     "output_type": "display_data"
    }
   ],
   "source": [
    "df1 = amazon.groupby('Product Category')['Qty'].sum().sort_values(ascending=False).head().to_frame()\n",
    "no_of_products_sold = amazon.groupby('Product Category')['Qty'].sum().sort_values(ascending=False).head()\n",
    "amount_generated_products = amazon.groupby('Product Category')['Amount'].sum().sort_values(ascending=False).head()\n",
    "amount_generated_by_each_product = amount_generated_products / no_of_products_sold\n",
    "df2 = amount_generated_by_each_product.reset_index().rename(columns={'Product Category': 'Category', 0: 'Amount'})\n",
    "\n",
    "df2 = df2.sort_values(by='Amount', ascending=False)\n",
    "\n",
    "fig, (ax1, ax2) = plt.subplots(1, 2, figsize=(12, 4))\n",
    "\n",
    "ax1.bar(df1.index, df1['Qty'], color='skyblue')\n",
    "ax1.set_title('Top Selling Products')\n",
    "ax1.set_ylabel('Number of Products') \n",
    "\n",
    "ax2.bar(df2['Category'], df2['Amount'], color='lightcoral')\n",
    "ax2.set_title('Amount Generated by each Product')\n",
    "ax2.set_ylabel('Amount')\n",
    "\n",
    "plt.tight_layout()\n",
    "plt.show()\n"
   ]
  },
  {
   "cell_type": "code",
   "execution_count": 418,
   "id": "f44315d5",
   "metadata": {},
   "outputs": [],
   "source": [
    "amazon['B2B'] = amazon['B2B'].replace({True: 'Business', False: 'Individual'})\n"
   ]
  },
  {
   "cell_type": "code",
   "execution_count": 446,
   "id": "d1cd81cd",
   "metadata": {},
   "outputs": [
    {
     "data": {
      "image/png": "[encoded data removed]",
      "text/plain": [
       "<Figure size 1200x400 with 2 Axes>"
      ]
     },
     "metadata": {},
     "output_type": "display_data"
    }
   ],
   "source": [
    "customer_type_for_products = amazon.groupby('B2B')['Qty'].sum().to_frame()\n",
    "custome_type_for_revenue = amazon.groupby('B2B')['Amount'].sum().to_frame()\n",
    "\n",
    "fig, (ax1,ax2) = plt.subplots(1, 2, figsize = (12,4))\n",
    "ax1.bar(customer_type_for_products.index, customer_type_for_products['Qty'], color ='skyblue')\n",
    "ax1.set_title('Quantity of Products Sold by Customer Type')\n",
    "ax1.set_ylabel('Number of Products')\n",
    "\n",
    "ax2.bar(custome_type_for_revenue.index, custome_type_for_revenue['Amount'], color ='green')\n",
    "ax2.set_title('Revenue Generated by Customer Type')\n",
    "ax2.set_ylabel('Amount')\n",
    "\n",
    "plt.tight_layout()\n",
    "plt.show()"
   ]
  },
  {
   "cell_type": "markdown",
   "id": "da08382f",
   "metadata": {},
   "source": [
    "# Valueable Insights"
   ]
  },
  {
   "cell_type": "code",
   "execution_count": 448,
   "id": "58ac12a7",
   "metadata": {},
   "outputs": [],
   "source": [
    "# 19% of the total revenue has decreased in 2nd Quarter \n",
    "# The percentage of orders shipped is 86% which is good \n",
    "# Set and Kurta are highest selling products however Western Dress and Ethnic Dress generate good revenue despite of being low selling products\n",
    "# Maharashtra is the state with highest revenue\n",
    "# Most number of customers are Individuals generating incomparable revenue than Business customers"
   ]
  },
  {
   "cell_type": "code",
   "execution_count": null,
   "id": "1636ded3",
   "metadata": {},
   "outputs": [],
   "source": []
  }
 ],
 "metadata": {
  "kernelspec": {
   "display_name": "Python 3 (ipykernel)",
   "language": "python",
   "name": "python3"
  },
  "language_info": {
   "codemirror_mode": {
    "name": "ipython",
    "version": 3
   },
   "file_extension": ".py",
   "mimetype": "text/x-python",
   "name": "python",
   "nbconvert_exporter": "python",
   "pygments_lexer": "ipython3",
   "version": "3.11.4"
  }
 },
 "nbformat": 4,
 "nbformat_minor": 5
}
